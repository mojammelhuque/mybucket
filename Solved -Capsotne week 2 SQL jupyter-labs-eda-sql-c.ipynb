{
    "cells": [
        {
            "cell_type": "markdown",
            "metadata": {},
            "source": "<center>\n    <img src=\"https://gitlab.com/ibm/skills-network/courses/placeholder101/-/raw/master/labs/module%201/images/IDSNlogo.png\"  width=\"300\" alt=\"cognitiveclass.ai logo\"  />\n</center>\n\n<h1 align=center><font size = 5>Assignment: SQL Notebook for Peer Assignment</font></h1>\n\nEstimated time needed: **60** minutes.\n\n## Introduction\n\nUsing this Python notebook you will:\n\n1.  Understand the Spacex DataSet\n2.  Load the dataset  into the corresponding table in a Db2 database\n3.  Execute SQL queries to answer assignment questions\n"
        },
        {
            "cell_type": "markdown",
            "metadata": {},
            "source": "## Overview of the DataSet\n\nSpaceX has gained worldwide attention for a series of historic milestones.\n\nIt is the only private company ever to return a spacecraft from low-earth orbit, which it first accomplished in December 2010.\nSpaceX advertises Falcon 9 rocket launches on its website with a cost of 62 million dollars wheras other providers cost upward of 165 million dollars each, much of the savings is because Space X can reuse the first stage.\n\nTherefore if we can determine if the first stage will land, we can determine the cost of a launch.\n\nThis information can be used if an alternate company wants to bid against SpaceX for a rocket launch.\n\nThis dataset includes a record for each payload carried during a SpaceX mission into outer space.\n"
        },
        {
            "cell_type": "markdown",
            "metadata": {},
            "source": "### Download the datasets\n\nThis assignment requires you to load the spacex dataset.\n\nIn many cases the dataset to be analyzed is available as a .CSV (comma separated values) file, perhaps on the internet. Click on the link below to download and save the dataset (.CSV file):\n\n<a href=\"https://cf-courses-data.s3.us.cloud-object-storage.appdomain.cloud/IBM-DS0321EN-SkillsNetwork/labs/module_2/data/Spacex.csv?utm_medium=Exinfluencer&utm_source=Exinfluencer&utm_content=000026UJ&utm_term=10006555&utm_id=NA-SkillsNetwork-Channel-SkillsNetworkCoursesIBMDS0321ENSkillsNetwork26802033-2021-01-01\" target=\"_blank\">Spacex DataSet</a>\n"
        },
        {
            "cell_type": "markdown",
            "metadata": {},
            "source": "### Store the dataset in database table\n\n**it is highly recommended to manually load the table using the database console LOAD tool in DB2**.\n\n<img src = \"https://cf-courses-data.s3.us.cloud-object-storage.appdomain.cloud/IBM-DS0321EN-SkillsNetwork/labs/module_2/images/spacexload.png\">\n\nNow open the Db2 console, open the LOAD tool, Select / Drag the .CSV file for the  dataset, Next create a New Table, and then follow the steps on-screen instructions to load the data. Name the new table as follows:\n\n**SPACEXDATASET**\n\n**Follow these steps while using old DB2 UI which is having Open Console Screen**\n\n**Note:While loading Spacex dataset, ensure that detect datatypes is disabled. Later click on the pencil icon(edit option).**\n\n1.  Change the Date Format by manually typing DD-MM-YYYY and timestamp format as DD-MM-YYYY HH\\:MM:SS.\n\n    Here you should place the cursor at Date field and manually type as DD-MM-YYYY.\n\n2.  Change the PAYLOAD_MASS\\_\\_KG\\_  datatype  to INTEGER.\n\n<img src = \"https://cf-courses-data.s3.us.cloud-object-storage.appdomain.cloud/IBM-DS0321EN-SkillsNetwork/labs/module_2/images/spacexload2.png\">\n"
        },
        {
            "cell_type": "markdown",
            "metadata": {},
            "source": "**Changes to be considered when having DB2 instance with the new UI having Go to UI screen**\n\n*   Refer to this insruction in this <a href=\"https://cf-courses-data.s3.us.cloud-object-storage.appdomain.cloud/IBMDeveloperSkillsNetwork-DB0201EN-SkillsNetwork/labs/Labs_Coursera_V5/labs/Lab%20-%20Sign%20up%20for%20IBM%20Cloud%20-%20Create%20Db2%20service%20instance%20-%20Get%20started%20with%20the%20Db2%20console/instructional-labs.md.html?utm_medium=Exinfluencer&utm_source=Exinfluencer&utm_content=000026UJ&utm_term=10006555&utm_id=NA-SkillsNetwork-Channel-SkillsNetworkCoursesIBMDS0321ENSkillsNetwork26802033-2021-01-01\">link</a> for viewing  the new  Go to UI screen.\n\n*   Later click on **Data link(below SQL)**  in the Go to UI screen  and click on **Load Data** tab.\n\n*   Later browse for the downloaded spacex file.\n\n<img src=\"https://cf-courses-data.s3.us.cloud-object-storage.appdomain.cloud/IBM-DS0321EN-SkillsNetwork/labs/module_2/images/browsefile.png\" width=\"800\"/>\n\n*   Once done select the schema andload the file.\n\n <img src=\"https://cf-courses-data.s3.us.cloud-object-storage.appdomain.cloud/IBM-DS0321EN-SkillsNetwork/labs/module_2/images/spacexload3.png\" width=\"800\"/>\n"
        },
        {
            "cell_type": "code",
            "execution_count": 1,
            "metadata": {},
            "outputs": [
                {
                    "name": "stdout",
                    "output_type": "stream",
                    "text": "Collecting sqlalchemy==1.3.9\n  Downloading SQLAlchemy-1.3.9.tar.gz (6.0 MB)\n     |\u2588\u2588\u2588\u2588\u2588\u2588\u2588\u2588\u2588\u2588\u2588\u2588\u2588\u2588\u2588\u2588\u2588\u2588\u2588\u2588\u2588\u2588\u2588\u2588\u2588\u2588\u2588\u2588\u2588\u2588\u2588\u2588| 6.0 MB 6.9 MB/s            \n\u001b[?25h  Preparing metadata (setup.py) ... \u001b[?25ldone\n\u001b[?25hBuilding wheels for collected packages: sqlalchemy\n  Building wheel for sqlalchemy (setup.py) ... \u001b[?25ldone\n\u001b[?25h  Created wheel for sqlalchemy: filename=SQLAlchemy-1.3.9-cp37-cp37m-linux_x86_64.whl size=1159176 sha256=8eb536f9db5f0482abc31b5e5c3b36d1995179f3e09b8ca434330d218cb8386b\n  Stored in directory: /home/jupyterlab/.cache/pip/wheels/03/71/13/010faf12246f72dc76b4150e6e599d13a85b4435e06fb9e51f\nSuccessfully built sqlalchemy\nInstalling collected packages: sqlalchemy\n  Attempting uninstall: sqlalchemy\n    Found existing installation: SQLAlchemy 1.3.24\n    Uninstalling SQLAlchemy-1.3.24:\n      Successfully uninstalled SQLAlchemy-1.3.24\nSuccessfully installed sqlalchemy-1.3.9\nRequirement already satisfied: ibm_db_sa in /home/jupyterlab/conda/envs/python/lib/python3.7/site-packages (0.3.3)\nRequirement already satisfied: sqlalchemy>=0.7.3 in /home/jupyterlab/conda/envs/python/lib/python3.7/site-packages (from ibm_db_sa) (1.3.9)\nRequirement already satisfied: ipython-sql in /home/jupyterlab/conda/envs/python/lib/python3.7/site-packages (0.3.9)\nRequirement already satisfied: ipython>=1.0 in /home/jupyterlab/conda/envs/python/lib/python3.7/site-packages (from ipython-sql) (7.30.0)\nRequirement already satisfied: ipython-genutils>=0.1.0 in /home/jupyterlab/conda/envs/python/lib/python3.7/site-packages (from ipython-sql) (0.2.0)\nRequirement already satisfied: prettytable in /home/jupyterlab/conda/envs/python/lib/python3.7/site-packages (from ipython-sql) (2.4.0)\nRequirement already satisfied: six in /home/jupyterlab/conda/envs/python/lib/python3.7/site-packages (from ipython-sql) (1.16.0)\nRequirement already satisfied: sqlalchemy>=0.6.7 in /home/jupyterlab/conda/envs/python/lib/python3.7/site-packages (from ipython-sql) (1.3.9)\nRequirement already satisfied: sqlparse in /home/jupyterlab/conda/envs/python/lib/python3.7/site-packages (from ipython-sql) (0.4.2)\nRequirement already satisfied: jedi>=0.16 in /home/jupyterlab/conda/envs/python/lib/python3.7/site-packages (from ipython>=1.0->ipython-sql) (0.18.1)\nRequirement already satisfied: prompt-toolkit!=3.0.0,!=3.0.1,<3.1.0,>=2.0.0 in /home/jupyterlab/conda/envs/python/lib/python3.7/site-packages (from ipython>=1.0->ipython-sql) (3.0.22)\nRequirement already satisfied: pexpect>4.3 in /home/jupyterlab/conda/envs/python/lib/python3.7/site-packages (from ipython>=1.0->ipython-sql) (4.8.0)\nRequirement already satisfied: pickleshare in /home/jupyterlab/conda/envs/python/lib/python3.7/site-packages (from ipython>=1.0->ipython-sql) (0.7.5)\nRequirement already satisfied: traitlets>=4.2 in /home/jupyterlab/conda/envs/python/lib/python3.7/site-packages (from ipython>=1.0->ipython-sql) (5.1.1)\nRequirement already satisfied: backcall in /home/jupyterlab/conda/envs/python/lib/python3.7/site-packages (from ipython>=1.0->ipython-sql) (0.2.0)\nRequirement already satisfied: decorator in /home/jupyterlab/conda/envs/python/lib/python3.7/site-packages (from ipython>=1.0->ipython-sql) (5.1.0)\nRequirement already satisfied: pygments in /home/jupyterlab/conda/envs/python/lib/python3.7/site-packages (from ipython>=1.0->ipython-sql) (2.10.0)\nRequirement already satisfied: setuptools>=18.5 in /home/jupyterlab/conda/envs/python/lib/python3.7/site-packages (from ipython>=1.0->ipython-sql) (59.4.0)\nRequirement already satisfied: matplotlib-inline in /home/jupyterlab/conda/envs/python/lib/python3.7/site-packages (from ipython>=1.0->ipython-sql) (0.1.3)\nRequirement already satisfied: wcwidth in /home/jupyterlab/conda/envs/python/lib/python3.7/site-packages (from prettytable->ipython-sql) (0.2.5)\nRequirement already satisfied: importlib-metadata in /home/jupyterlab/conda/envs/python/lib/python3.7/site-packages (from prettytable->ipython-sql) (4.8.2)\nRequirement already satisfied: parso<0.9.0,>=0.8.0 in /home/jupyterlab/conda/envs/python/lib/python3.7/site-packages (from jedi>=0.16->ipython>=1.0->ipython-sql) (0.8.3)\nRequirement already satisfied: ptyprocess>=0.5 in /home/jupyterlab/conda/envs/python/lib/python3.7/site-packages (from pexpect>4.3->ipython>=1.0->ipython-sql) (0.7.0)\nRequirement already satisfied: typing-extensions>=3.6.4 in /home/jupyterlab/conda/envs/python/lib/python3.7/site-packages (from importlib-metadata->prettytable->ipython-sql) (4.0.1)\nRequirement already satisfied: zipp>=0.5 in /home/jupyterlab/conda/envs/python/lib/python3.7/site-packages (from importlib-metadata->prettytable->ipython-sql) (3.6.0)\n"
                }
            ],
            "source": "!pip install sqlalchemy==1.3.9\n!pip install ibm_db_sa\n!pip install ipython-sql\n!pip install --force-reinstall ibm_db==3.1.0 ibm_db_sa==0.3.7\n!pip install sqlalchemy==1.3.9\n\nimport ibm_db\nimport ibm_db_sa\nimport sqlalchemy"
        },
        {
            "cell_type": "markdown",
            "metadata": {},
            "source": "### Connect to the database\n\nLet us first load the SQL extension and establish a connection with the database\n"
        },
        {
            "cell_type": "code",
            "execution_count": 2,
            "metadata": {},
            "outputs": [],
            "source": "%load_ext sql"
        },
        {
            "cell_type": "markdown",
            "metadata": {},
            "source": "**DB2 magic in case of old UI service credentials.**\n\nIn the next cell enter your db2 connection string. Recall you created Service Credentials for your Db2 instance before. From the **uri** field of your Db2 service credentials copy everything after db2:// (except the double quote at the end) and paste it in the cell below after ibm_db_sa://\n\n<img src =\"https://cf-courses-data.s3.us.cloud-object-storage.appdomain.cloud/IBMDeveloperSkillsNetwork-DB0201EN-SkillsNetwork/labs/FinalModule_edX/images/URI.jpg\">\n\nin the following format\n\n**%sql ibm_db_sa://my-username:my-password\\@my-hostname:my-port/my-db-name**\n\n**DB2 magic in case of new UI service credentials.**\n\n<img src =\"https://cf-courses-data.s3.us.cloud-object-storage.appdomain.cloud/IBM-DS0321EN-SkillsNetwork/labs/module_2/images/servicecredentials.png\" width=600>  \n\n*   Use the following format.\n\n*   Add security=SSL at the end\n\n**%sql ibm_db_sa://my-username:my-password\\@my-hostname:my-port/my-db-name?security=SSL**\n"
        },
        {
            "cell_type": "code",
            "execution_count": null,
            "metadata": {},
            "outputs": [],
            "source": ""
        },
        {
            "cell_type": "code",
            "execution_count": null,
            "metadata": {},
            "outputs": [],
            "source": ""
        },
        {
            "cell_type": "code",
            "execution_count": 4,
            "metadata": {},
            "outputs": [
                {
                    "data": {
                        "text/plain": "'Connected: dzg81894@bludb'"
                    },
                    "execution_count": 4,
                    "metadata": {},
                    "output_type": "execute_result"
                }
            ],
            "source": "%sql ibm_db_sa://dzg81894:dCGMzxqSpB9jDBOt@1bbf73c5-d84a-4bb0-85b9-ab1a4348f4a4.c3n41cmd0nqnrk39u98g.databases.appdomain.cloud:32286/bludb?security=SSL?authSource=admin&replicaSet=replset"
        },
        {
            "cell_type": "markdown",
            "metadata": {},
            "source": "## Tasks\n\nNow write and execute SQL queries to solve the assignment tasks.\n\n### Task 1\n\n##### Display the names of the unique launch sites  in the space mission\n"
        },
        {
            "cell_type": "code",
            "execution_count": 20,
            "metadata": {},
            "outputs": [
                {
                    "name": "stdout",
                    "output_type": "stream",
                    "text": " * ibm_db_sa://dzg81894:***@1bbf73c5-d84a-4bb0-85b9-ab1a4348f4a4.c3n41cmd0nqnrk39u98g.databases.appdomain.cloud:32286/bludb\nDone.\n"
                },
                {
                    "data": {
                        "text/html": "<table>\n    <thead>\n        <tr>\n            <th>launch_site</th>\n        </tr>\n    </thead>\n    <tbody>\n        <tr>\n            <td>CCAFS LC-40</td>\n        </tr>\n        <tr>\n            <td>CCAFS SLC-40</td>\n        </tr>\n        <tr>\n            <td>KSC LC-39A</td>\n        </tr>\n        <tr>\n            <td>VAFB SLC-4E</td>\n        </tr>\n    </tbody>\n</table>",
                        "text/plain": "[('CCAFS LC-40',), ('CCAFS SLC-40',), ('KSC LC-39A',), ('VAFB SLC-4E',)]"
                    },
                    "execution_count": 20,
                    "metadata": {},
                    "output_type": "execute_result"
                }
            ],
            "source": "%%sql\nSELECT DISTINCT launch_site\nFROM SPACEXTBL;"
        },
        {
            "cell_type": "markdown",
            "metadata": {},
            "source": "### Task 2\n\n##### Display 5 records where launch sites begin with the string 'CCA'\n"
        },
        {
            "cell_type": "code",
            "execution_count": 25,
            "metadata": {},
            "outputs": [
                {
                    "name": "stdout",
                    "output_type": "stream",
                    "text": " * ibm_db_sa://dzg81894:***@1bbf73c5-d84a-4bb0-85b9-ab1a4348f4a4.c3n41cmd0nqnrk39u98g.databases.appdomain.cloud:32286/bludb\nDone.\n"
                },
                {
                    "data": {
                        "text/html": "<table>\n    <thead>\n        <tr>\n            <th>launch_site</th>\n        </tr>\n    </thead>\n    <tbody>\n        <tr>\n            <td>CCAFS LC-40</td>\n        </tr>\n        <tr>\n            <td>CCAFS LC-40</td>\n        </tr>\n        <tr>\n            <td>CCAFS LC-40</td>\n        </tr>\n        <tr>\n            <td>CCAFS LC-40</td>\n        </tr>\n        <tr>\n            <td>CCAFS LC-40</td>\n        </tr>\n    </tbody>\n</table>",
                        "text/plain": "[('CCAFS LC-40',),\n ('CCAFS LC-40',),\n ('CCAFS LC-40',),\n ('CCAFS LC-40',),\n ('CCAFS LC-40',)]"
                    },
                    "execution_count": 25,
                    "metadata": {},
                    "output_type": "execute_result"
                }
            ],
            "source": "%%sql\nSELECT launch_site\nFROM SPACEXTBL\nWHERE launch_site LIKE 'CCA%'\nLIMIT 5;"
        },
        {
            "cell_type": "markdown",
            "metadata": {},
            "source": "### Task 3\n\n##### Display the total payload mass carried by boosters launched by NASA (CRS)\n"
        },
        {
            "cell_type": "code",
            "execution_count": 34,
            "metadata": {},
            "outputs": [
                {
                    "name": "stdout",
                    "output_type": "stream",
                    "text": " * ibm_db_sa://dzg81894:***@1bbf73c5-d84a-4bb0-85b9-ab1a4348f4a4.c3n41cmd0nqnrk39u98g.databases.appdomain.cloud:32286/bludb\nDone.\n"
                },
                {
                    "data": {
                        "text/html": "<table>\n    <thead>\n        <tr>\n            <th>1</th>\n        </tr>\n    </thead>\n    <tbody>\n        <tr>\n            <td>99980</td>\n        </tr>\n    </tbody>\n</table>",
                        "text/plain": "[(99980,)]"
                    },
                    "execution_count": 34,
                    "metadata": {},
                    "output_type": "execute_result"
                }
            ],
            "source": "%%sql\nSELECT SUM(PAYLOAD_MASS__KG_)\nFROM SPACEXTBL\nWHERE CUSTOMER LIKE'NASA%';\n"
        },
        {
            "cell_type": "markdown",
            "metadata": {},
            "source": "### Task 4\n\n##### Display average payload mass carried by booster version F9 v1.1\n"
        },
        {
            "cell_type": "code",
            "execution_count": 39,
            "metadata": {},
            "outputs": [
                {
                    "name": "stdout",
                    "output_type": "stream",
                    "text": " * ibm_db_sa://dzg81894:***@1bbf73c5-d84a-4bb0-85b9-ab1a4348f4a4.c3n41cmd0nqnrk39u98g.databases.appdomain.cloud:32286/bludb\nDone.\n"
                },
                {
                    "data": {
                        "text/html": "<table>\n    <thead>\n        <tr>\n            <th>1</th>\n        </tr>\n    </thead>\n    <tbody>\n        <tr>\n            <td>2534</td>\n        </tr>\n    </tbody>\n</table>",
                        "text/plain": "[(2534,)]"
                    },
                    "execution_count": 39,
                    "metadata": {},
                    "output_type": "execute_result"
                }
            ],
            "source": "%%sql\nSELECT AVG(PAYLOAD_MASS__KG_)\nFROM SPACEXTBL\nWHERE BOOSTER_VERSION LIKE 'F9 v1.1%';"
        },
        {
            "cell_type": "markdown",
            "metadata": {},
            "source": "### Task 5\n\n##### List the date when the first successful landing outcome in ground pad was acheived.\n\n*Hint:Use min function*\n"
        },
        {
            "cell_type": "code",
            "execution_count": 50,
            "metadata": {},
            "outputs": [
                {
                    "name": "stdout",
                    "output_type": "stream",
                    "text": " * ibm_db_sa://dzg81894:***@1bbf73c5-d84a-4bb0-85b9-ab1a4348f4a4.c3n41cmd0nqnrk39u98g.databases.appdomain.cloud:32286/bludb\nDone.\n"
                },
                {
                    "data": {
                        "text/html": "<table>\n    <thead>\n        <tr>\n            <th>launch_site</th>\n            <th>DATE</th>\n        </tr>\n    </thead>\n    <tbody>\n        <tr>\n            <td>CCAFS LC-40</td>\n            <td>2010-06-04</td>\n        </tr>\n        <tr>\n            <td>CCAFS LC-40</td>\n            <td>2010-12-08</td>\n        </tr>\n        <tr>\n            <td>CCAFS LC-40</td>\n            <td>2012-05-22</td>\n        </tr>\n        <tr>\n            <td>CCAFS LC-40</td>\n            <td>2012-10-08</td>\n        </tr>\n        <tr>\n            <td>CCAFS LC-40</td>\n            <td>2013-03-01</td>\n        </tr>\n    </tbody>\n</table>",
                        "text/plain": "[('CCAFS LC-40', datetime.date(2010, 6, 4)),\n ('CCAFS LC-40', datetime.date(2010, 12, 8)),\n ('CCAFS LC-40', datetime.date(2012, 5, 22)),\n ('CCAFS LC-40', datetime.date(2012, 10, 8)),\n ('CCAFS LC-40', datetime.date(2013, 3, 1))]"
                    },
                    "execution_count": 50,
                    "metadata": {},
                    "output_type": "execute_result"
                }
            ],
            "source": "%%sql\nSELECT launch_site, date\nFROM SPACEXTBL\nWHERE MISSION_outcome LIKE 'Succ%'\norder by date\nlimit 5;"
        },
        {
            "cell_type": "code",
            "execution_count": 54,
            "metadata": {},
            "outputs": [
                {
                    "name": "stdout",
                    "output_type": "stream",
                    "text": " * ibm_db_sa://dzg81894:***@1bbf73c5-d84a-4bb0-85b9-ab1a4348f4a4.c3n41cmd0nqnrk39u98g.databases.appdomain.cloud:32286/bludb\nDone.\n"
                },
                {
                    "data": {
                        "text/html": "<table>\n    <thead>\n        <tr>\n            <th>1</th>\n        </tr>\n    </thead>\n    <tbody>\n        <tr>\n            <td>2010-06-04</td>\n        </tr>\n    </tbody>\n</table>",
                        "text/plain": "[(datetime.date(2010, 6, 4),)]"
                    },
                    "execution_count": 54,
                    "metadata": {},
                    "output_type": "execute_result"
                }
            ],
            "source": "%%sql\nSELECT MIN(date)\nFROM SPACEXTBL\nWHERE MISSION_outcome LIKE 'Succ%';"
        },
        {
            "cell_type": "markdown",
            "metadata": {},
            "source": "### Task 6\n\n##### List the names of the boosters which have success in drone ship and have payload mass greater than 4000 but less than 6000\n"
        },
        {
            "cell_type": "code",
            "execution_count": 70,
            "metadata": {},
            "outputs": [
                {
                    "name": "stdout",
                    "output_type": "stream",
                    "text": " * ibm_db_sa://dzg81894:***@1bbf73c5-d84a-4bb0-85b9-ab1a4348f4a4.c3n41cmd0nqnrk39u98g.databases.appdomain.cloud:32286/bludb\nDone.\n"
                },
                {
                    "data": {
                        "text/html": "<table>\n    <thead>\n        <tr>\n            <th>1</th>\n        </tr>\n    </thead>\n    <tbody>\n        <tr>\n            <td>4</td>\n        </tr>\n    </tbody>\n</table>",
                        "text/plain": "[(4,)]"
                    },
                    "execution_count": 70,
                    "metadata": {},
                    "output_type": "execute_result"
                }
            ],
            "source": "%%sql\nSELECT COUNT(*)\nFROM SPACEXTBL\nWHERE LANDING__OUTCOME LIKE '%Success (drone ship)%' and (PAYLOAD_MASS__KG_ BETWEEN 4000 AND 6000); "
        },
        {
            "cell_type": "code",
            "execution_count": 71,
            "metadata": {},
            "outputs": [
                {
                    "name": "stdout",
                    "output_type": "stream",
                    "text": " * ibm_db_sa://dzg81894:***@1bbf73c5-d84a-4bb0-85b9-ab1a4348f4a4.c3n41cmd0nqnrk39u98g.databases.appdomain.cloud:32286/bludb\nDone.\n"
                },
                {
                    "data": {
                        "text/html": "<table>\n    <thead>\n        <tr>\n            <th>customer</th>\n            <th>payload_mass__kg_</th>\n            <th>landing__outcome</th>\n        </tr>\n    </thead>\n    <tbody>\n        <tr>\n            <td>SKY Perfect JSAT Group</td>\n            <td>4696</td>\n            <td>Success (drone ship)</td>\n        </tr>\n        <tr>\n            <td>SKY Perfect JSAT Group</td>\n            <td>4600</td>\n            <td>Success (drone ship)</td>\n        </tr>\n        <tr>\n            <td>SES</td>\n            <td>5300</td>\n            <td>Success (drone ship)</td>\n        </tr>\n        <tr>\n            <td>SES EchoStar</td>\n            <td>5200</td>\n            <td>Success (drone ship)</td>\n        </tr>\n    </tbody>\n</table>",
                        "text/plain": "[('SKY Perfect JSAT Group', 4696, 'Success (drone ship)'),\n ('SKY Perfect JSAT Group', 4600, 'Success (drone ship)'),\n ('SES', 5300, 'Success (drone ship)'),\n ('SES EchoStar', 5200, 'Success (drone ship)')]"
                    },
                    "execution_count": 71,
                    "metadata": {},
                    "output_type": "execute_result"
                }
            ],
            "source": "%%sql\nSELECT CUSTOMER, PAYLOAD_MASS__KG_ ,LANDING__OUTCOME\nFROM SPACEXTBL\nWHERE LANDING__OUTCOME LIKE '%Success (drone ship)%' and (PAYLOAD_MASS__KG_ BETWEEN 4000 AND 6000); "
        },
        {
            "cell_type": "markdown",
            "metadata": {},
            "source": "### Task 7\n\n##### List the total number of successful and failure mission outcomes\n"
        },
        {
            "cell_type": "code",
            "execution_count": 73,
            "metadata": {},
            "outputs": [
                {
                    "name": "stdout",
                    "output_type": "stream",
                    "text": " * ibm_db_sa://dzg81894:***@1bbf73c5-d84a-4bb0-85b9-ab1a4348f4a4.c3n41cmd0nqnrk39u98g.databases.appdomain.cloud:32286/bludb\nDone.\n"
                },
                {
                    "data": {
                        "text/html": "<table>\n    <thead>\n        <tr>\n            <th>1</th>\n        </tr>\n    </thead>\n    <tbody>\n        <tr>\n            <td>100</td>\n        </tr>\n    </tbody>\n</table>",
                        "text/plain": "[(100,)]"
                    },
                    "execution_count": 73,
                    "metadata": {},
                    "output_type": "execute_result"
                }
            ],
            "source": "%%sql\nSELECT COUNT(*)\nFROM SPACEXTBL\nWHERE MISSION_outcome LIKE 'Succ%' ;"
        },
        {
            "cell_type": "code",
            "execution_count": 75,
            "metadata": {},
            "outputs": [
                {
                    "name": "stdout",
                    "output_type": "stream",
                    "text": " * ibm_db_sa://dzg81894:***@1bbf73c5-d84a-4bb0-85b9-ab1a4348f4a4.c3n41cmd0nqnrk39u98g.databases.appdomain.cloud:32286/bludb\nDone.\n"
                },
                {
                    "data": {
                        "text/html": "<table>\n    <thead>\n        <tr>\n            <th>1</th>\n        </tr>\n    </thead>\n    <tbody>\n        <tr>\n            <td>1</td>\n        </tr>\n    </tbody>\n</table>",
                        "text/plain": "[(1,)]"
                    },
                    "execution_count": 75,
                    "metadata": {},
                    "output_type": "execute_result"
                }
            ],
            "source": "%%sql\nSELECT COUNT(*)\nFROM SPACEXTBL\nWHERE MISSION_outcome LIKE 'Fai%' ;"
        },
        {
            "cell_type": "markdown",
            "metadata": {},
            "source": "### Task 8\n\n##### List the   names of the booster_versions which have carried the maximum payload mass. Use a subquery\n"
        },
        {
            "cell_type": "code",
            "execution_count": 85,
            "metadata": {},
            "outputs": [
                {
                    "name": "stdout",
                    "output_type": "stream",
                    "text": " * ibm_db_sa://dzg81894:***@1bbf73c5-d84a-4bb0-85b9-ab1a4348f4a4.c3n41cmd0nqnrk39u98g.databases.appdomain.cloud:32286/bludb\nDone.\n"
                },
                {
                    "data": {
                        "text/html": "<table>\n    <thead>\n        <tr>\n            <th>booster_version</th>\n            <th>payload_mass__kg_</th>\n        </tr>\n    </thead>\n    <tbody>\n        <tr>\n            <td>F9 B5 B1048.4</td>\n            <td>15600</td>\n        </tr>\n        <tr>\n            <td>F9 B5 B1049.4</td>\n            <td>15600</td>\n        </tr>\n        <tr>\n            <td>F9 B5 B1051.3</td>\n            <td>15600</td>\n        </tr>\n        <tr>\n            <td>F9 B5 B1056.4</td>\n            <td>15600</td>\n        </tr>\n        <tr>\n            <td>F9 B5 B1048.5</td>\n            <td>15600</td>\n        </tr>\n        <tr>\n            <td>F9 B5 B1051.4</td>\n            <td>15600</td>\n        </tr>\n        <tr>\n            <td>F9 B5 B1049.5</td>\n            <td>15600</td>\n        </tr>\n        <tr>\n            <td>F9 B5 B1060.2</td>\n            <td>15600</td>\n        </tr>\n        <tr>\n            <td>F9 B5 B1058.3</td>\n            <td>15600</td>\n        </tr>\n        <tr>\n            <td>F9 B5 B1051.6</td>\n            <td>15600</td>\n        </tr>\n        <tr>\n            <td>F9 B5 B1060.3</td>\n            <td>15600</td>\n        </tr>\n        <tr>\n            <td>F9 B5 B1049.7</td>\n            <td>15600</td>\n        </tr>\n    </tbody>\n</table>",
                        "text/plain": "[('F9 B5 B1048.4', 15600),\n ('F9 B5 B1049.4', 15600),\n ('F9 B5 B1051.3', 15600),\n ('F9 B5 B1056.4', 15600),\n ('F9 B5 B1048.5', 15600),\n ('F9 B5 B1051.4', 15600),\n ('F9 B5 B1049.5', 15600),\n ('F9 B5 B1060.2', 15600),\n ('F9 B5 B1058.3', 15600),\n ('F9 B5 B1051.6', 15600),\n ('F9 B5 B1060.3', 15600),\n ('F9 B5 B1049.7', 15600)]"
                    },
                    "execution_count": 85,
                    "metadata": {},
                    "output_type": "execute_result"
                }
            ],
            "source": "%%sql\nSELECT BOOSTER_VERSION, PAYLOAD_MASS__KG_\nFROM SPACEXTBL\nwhere PAYLOAD_MASS__KG_ = (select MAX(PAYLOAD_MASS__KG_) FROM SPACEXTBL); "
        },
        {
            "cell_type": "markdown",
            "metadata": {},
            "source": "### Task 9\n\n##### List the failed landing_outcomes in drone ship, their booster versions, and launch site names for in year 2015\n"
        },
        {
            "cell_type": "code",
            "execution_count": 106,
            "metadata": {},
            "outputs": [
                {
                    "name": "stdout",
                    "output_type": "stream",
                    "text": " * ibm_db_sa://dzg81894:***@1bbf73c5-d84a-4bb0-85b9-ab1a4348f4a4.c3n41cmd0nqnrk39u98g.databases.appdomain.cloud:32286/bludb\nDone.\n"
                },
                {
                    "data": {
                        "text/html": "<table>\n    <thead>\n        <tr>\n            <th>DATE</th>\n            <th>booster_version</th>\n            <th>landing__outcome</th>\n        </tr>\n    </thead>\n    <tbody>\n        <tr>\n            <td>2015-01-10</td>\n            <td>F9 v1.1 B1012</td>\n            <td>Failure (drone ship)</td>\n        </tr>\n        <tr>\n            <td>2015-04-14</td>\n            <td>F9 v1.1 B1015</td>\n            <td>Failure (drone ship)</td>\n        </tr>\n    </tbody>\n</table>",
                        "text/plain": "[(datetime.date(2015, 1, 10), 'F9 v1.1 B1012', 'Failure (drone ship)'),\n (datetime.date(2015, 4, 14), 'F9 v1.1 B1015', 'Failure (drone ship)')]"
                    },
                    "execution_count": 106,
                    "metadata": {},
                    "output_type": "execute_result"
                }
            ],
            "source": "%%sql\nSELECT DATE, BOOSTER_VERSION, LANDING__OUTCOME \nFROM SPACEXTBL\nWHERE LANDING__OUTCOME LIKE 'Failure (drone ship)' AND YEAR(DATE) = 2015;"
        },
        {
            "cell_type": "markdown",
            "metadata": {},
            "source": "### Task 10\n\n##### Rank the count of landing outcomes (such as Failure (drone ship) or Success (ground pad)) between the date 2010-06-04 and 2017-03-20, in descending order\n"
        },
        {
            "cell_type": "code",
            "execution_count": 113,
            "metadata": {},
            "outputs": [
                {
                    "name": "stdout",
                    "output_type": "stream",
                    "text": " * ibm_db_sa://dzg81894:***@1bbf73c5-d84a-4bb0-85b9-ab1a4348f4a4.c3n41cmd0nqnrk39u98g.databases.appdomain.cloud:32286/bludb\nDone.\n"
                },
                {
                    "data": {
                        "text/html": "<table>\n    <thead>\n        <tr>\n            <th>DATE</th>\n            <th>booster_version</th>\n            <th>landing__outcome</th>\n        </tr>\n    </thead>\n    <tbody>\n        <tr>\n            <td>2016-06-15</td>\n            <td>F9 FT B1024</td>\n            <td>Failure (drone ship)</td>\n        </tr>\n        <tr>\n            <td>2016-03-04</td>\n            <td>F9 FT B1020</td>\n            <td>Failure (drone ship)</td>\n        </tr>\n        <tr>\n            <td>2016-01-17</td>\n            <td>F9 v1.1 B1017</td>\n            <td>Failure (drone ship)</td>\n        </tr>\n        <tr>\n            <td>2015-04-14</td>\n            <td>F9 v1.1 B1015</td>\n            <td>Failure (drone ship)</td>\n        </tr>\n        <tr>\n            <td>2015-01-10</td>\n            <td>F9 v1.1 B1012</td>\n            <td>Failure (drone ship)</td>\n        </tr>\n    </tbody>\n</table>",
                        "text/plain": "[(datetime.date(2016, 6, 15), 'F9 FT B1024', 'Failure (drone ship)'),\n (datetime.date(2016, 3, 4), 'F9 FT B1020', 'Failure (drone ship)'),\n (datetime.date(2016, 1, 17), 'F9 v1.1 B1017', 'Failure (drone ship)'),\n (datetime.date(2015, 4, 14), 'F9 v1.1 B1015', 'Failure (drone ship)'),\n (datetime.date(2015, 1, 10), 'F9 v1.1 B1012', 'Failure (drone ship)')]"
                    },
                    "execution_count": 113,
                    "metadata": {},
                    "output_type": "execute_result"
                }
            ],
            "source": "%%sql\nSELECT DATE, BOOSTER_VERSION, LANDING__OUTCOME \nFROM SPACEXTBL\nWHERE LANDING__OUTCOME LIKE 'Failure (drone ship)' AND DATE BETWEEN '2010-06-04' and '2017-03-20'\nORDER BY DATE DESC;\n"
        },
        {
            "cell_type": "markdown",
            "metadata": {},
            "source": "### Reference Links\n\n*   <a href =\"https://cf-courses-data.s3.us.cloud-object-storage.appdomain.cloud/IBMDeveloperSkillsNetwork-DB0201EN-SkillsNetwork/labs/Labs_Coursera_V5/labs/Lab%20-%20String%20Patterns%20-%20Sorting%20-%20Grouping/instructional-labs.md.html?utm_medium=Exinfluencer&utm_source=Exinfluencer&utm_content=000026UJ&utm_term=10006555&utm_id=NA-SkillsNetwork-Channel-SkillsNetworkCoursesIBMDS0321ENSkillsNetwork26802033-2021-01-01&origin=www.coursera.org\">Hands-on Lab : String Patterns, Sorting and Grouping</a>\n\n*   <a  href=\"https://cf-courses-data.s3.us.cloud-object-storage.appdomain.cloud/IBMDeveloperSkillsNetwork-DB0201EN-SkillsNetwork/labs/Labs_Coursera_V5/labs/Lab%20-%20Built-in%20functions%20/Hands-on_Lab__Built-in_Functions.md.html?utm_medium=Exinfluencer&utm_source=Exinfluencer&utm_content=000026UJ&utm_term=10006555&utm_id=NA-SkillsNetwork-Channel-SkillsNetworkCoursesIBMDS0321ENSkillsNetwork26802033-2021-01-01&origin=www.coursera.org\">Hands-on Lab: Built-in functions</a>\n\n*   <a  href=\"https://cf-courses-data.s3.us.cloud-object-storage.appdomain.cloud/IBMDeveloperSkillsNetwork-DB0201EN-SkillsNetwork/labs/Labs_Coursera_V5/labs/Lab%20-%20Sub-queries%20and%20Nested%20SELECTs%20/instructional-labs.md.html?utm_medium=Exinfluencer&utm_source=Exinfluencer&utm_content=000026UJ&utm_term=10006555&utm_id=NA-SkillsNetwork-Channel-SkillsNetworkCoursesIBMDS0321ENSkillsNetwork26802033-2021-01-01&origin=www.coursera.org\">Hands-on Lab : Sub-queries and Nested SELECT Statements</a>\n\n*   <a href=\"https://cf-courses-data.s3.us.cloud-object-storage.appdomain.cloud/IBMDeveloperSkillsNetwork-DB0201EN-SkillsNetwork/labs/Module%205/DB0201EN-Week3-1-3-SQLmagic.ipynb?utm_medium=Exinfluencer&utm_source=Exinfluencer&utm_content=000026UJ&utm_term=10006555&utm_id=NA-SkillsNetwork-Channel-SkillsNetworkCoursesIBMDS0321ENSkillsNetwork26802033-2021-01-01\">Hands-on Tutorial: Accessing Databases with SQL magic</a>\n\n*   <a href= \"https://cf-courses-data.s3.us.cloud-object-storage.appdomain.cloud/IBMDeveloperSkillsNetwork-DB0201EN-SkillsNetwork/labs/Module%205/DB0201EN-Week3-1-4-Analyzing.ipynb?utm_medium=Exinfluencer&utm_source=Exinfluencer&utm_content=000026UJ&utm_term=10006555&utm_id=NA-SkillsNetwork-Channel-SkillsNetworkCoursesIBMDS0321ENSkillsNetwork26802033-2021-01-01\">Hands-on Lab: Analyzing a real World Data Set</a>\n"
        },
        {
            "cell_type": "markdown",
            "metadata": {},
            "source": "## Author(s)\n\n<h4> Lakshmi Holla </h4>\n"
        },
        {
            "cell_type": "markdown",
            "metadata": {},
            "source": "## Other Contributors\n\n<h4> Rav Ahuja </h4>\n"
        },
        {
            "cell_type": "markdown",
            "metadata": {},
            "source": "## Change log\n\n| Date       | Version | Changed by    | Change Description        |\n| ---------- | ------- | ------------- | ------------------------- |\n| 2021-10-12 | 0.4     | Lakshmi Holla | Changed markdown          |\n| 2021-08-24 | 0.3     | Lakshmi Holla | Added library update      |\n| 2021-07-09 | 0.2     | Lakshmi Holla | Changes made in magic sql |\n| 2021-05-20 | 0.1     | Lakshmi Holla | Created Initial Version   |\n"
        },
        {
            "cell_type": "markdown",
            "metadata": {},
            "source": "## <h3 align=\"center\"> \u00a9 IBM Corporation 2021. All rights reserved. <h3/>\n"
        }
    ],
    "metadata": {
        "kernelspec": {
            "display_name": "Python",
            "language": "python",
            "name": "conda-env-python-py"
        },
        "language_info": {
            "codemirror_mode": {
                "name": "ipython",
                "version": 3
            },
            "file_extension": ".py",
            "mimetype": "text/x-python",
            "name": "python",
            "nbconvert_exporter": "python",
            "pygments_lexer": "ipython3",
            "version": "3.7.12"
        }
    },
    "nbformat": 4,
    "nbformat_minor": 4
}